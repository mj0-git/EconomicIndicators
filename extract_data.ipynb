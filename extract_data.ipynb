{
 "cells": [
  {
   "cell_type": "code",
   "execution_count": 111,
   "id": "5abf8ff1",
   "metadata": {},
   "outputs": [],
   "source": [
    "import numpy as np\n",
    "import pandas as pd\n",
    "import seaborn as sns\n",
    "from pandas_datareader import data as wb\n",
    "import nasdaqdatalink as nd"
   ]
  },
  {
   "cell_type": "code",
   "execution_count": 112,
   "id": "1fab80d8",
   "metadata": {},
   "outputs": [],
   "source": [
    "# CPIAUCSL: CPI \n",
    "# PPIACO: PPI(Commodities) \n",
    "# DFF: Federal Funds Effective Rate\n",
    "# UMCSENT: Consumer Sentiement\n",
    "# PAYEMS: Non-farm payroll\n",
    "df = wb.DataReader(['CPIAUCSL', 'PPIACO', 'DFF', 'UMCSENT', 'PAYEMS'] , data_source='fred', start='1989-01-01')\n",
    "df.columns = ['cpi', 'ppi', 'eff','sentiement', 'nonfarm']"
   ]
  },
  {
   "cell_type": "code",
   "execution_count": 113,
   "id": "c13ff9a5",
   "metadata": {
    "scrolled": true
   },
   "outputs": [],
   "source": [
    "df = df.resample('M').last()"
   ]
  },
  {
   "cell_type": "code",
   "execution_count": 114,
   "id": "fc26cef5",
   "metadata": {},
   "outputs": [
    {
     "name": "stderr",
     "output_type": "stream",
     "text": [
      "/var/folders/q5/4x95s775049742gq43bpyf7w0000gn/T/ipykernel_65006/2343914403.py:6: DeprecationWarning: executable_path has been deprecated, please pass in a Service object\n",
      "  driver = webdriver.Chrome('driver/chromedriver')\n",
      "WARNING:tvDatafeed.main:you are using nologin method, data you access may be limited\n"
     ]
    }
   ],
   "source": [
    "from tvDatafeed import TvDatafeed, Interval\n",
    "from selenium import webdriver\n",
    "from webdriver_manager.chrome import ChromeDriverManager\n",
    "\n",
    "# Extract from Tradingview\n",
    "driver = webdriver.Chrome('driver/chromedriver') \n",
    "tv = TvDatafeed()\n",
    "\n",
    "#ISM\n",
    "ism = tv.get_hist('MAN_PMI','ISM',interval=Interval.in_monthly, n_bars=5000)\n",
    "ism = ism['close'].shift(1)\n",
    "ism.columns = ['ism']"
   ]
  },
  {
   "cell_type": "code",
   "execution_count": 115,
   "id": "cb9fc6b0",
   "metadata": {},
   "outputs": [],
   "source": [
    "#SPY\n",
    "spx = tv.get_hist('SPX500','FX',interval=Interval.in_weekly, n_bars=5000)\n",
    "spx = spx['close']\n",
    "spx.columns = ['spx']"
   ]
  },
  {
   "cell_type": "code",
   "execution_count": 116,
   "id": "bc7b0d30",
   "metadata": {},
   "outputs": [],
   "source": [
    "#GOLD\n",
    "gold = tv.get_hist('GOLD','TVC',interval=Interval.in_weekly, n_bars=5000)\n",
    "gold = gold['close']\n",
    "gold.columns = ['gold']"
   ]
  },
  {
   "cell_type": "code",
   "execution_count": 117,
   "id": "a9ed546c",
   "metadata": {},
   "outputs": [],
   "source": [
    "#USOIL\n",
    "usoil = tv.get_hist('USOIL','FX',interval=Interval.in_weekly, n_bars=5000)\n",
    "usoil = usoil['close']\n",
    "usoil.columns = ['usoil']"
   ]
  },
  {
   "cell_type": "code",
   "execution_count": 118,
   "id": "0c9f832b",
   "metadata": {},
   "outputs": [],
   "source": [
    "# us10y\n",
    "us10y = tv.get_hist('US10Y','TVC',interval=Interval.in_weekly, n_bars=5000)\n",
    "us10y = us10y['close']\n",
    "us10y.columns = ['us10y']"
   ]
  },
  {
   "cell_type": "code",
   "execution_count": 119,
   "id": "30bb9819",
   "metadata": {},
   "outputs": [],
   "source": [
    "# us2y\n",
    "us2y = tv.get_hist('US02Y','TVC',interval=Interval.in_weekly, n_bars=5000)\n",
    "us2y = us2y['close']\n",
    "us2y.columns = ['us2y']"
   ]
  },
  {
   "cell_type": "code",
   "execution_count": 120,
   "id": "2644a56d",
   "metadata": {
    "scrolled": true
   },
   "outputs": [],
   "source": [
    "# Store last price of month\n",
    "df['ism'] = ism['1989-01-01':].resample('M').last()\n",
    "df['spx'] = spx['1989-01-01':].resample('M').last()\n",
    "df['gold'] = gold['1989-01-01':].resample('M').last()\n",
    "df['usoil'] = usoil['1989-01-01':].resample('M').last()\n",
    "df['us10y'] = us10y['1989-01-01':].resample('M').last()\n",
    "df['us2y'] = us2y['1989-01-01':].resample('M').last()\n",
    "df['yc'] = df['us10y'] - df['us2y'] "
   ]
  },
  {
   "cell_type": "code",
   "execution_count": 124,
   "id": "ca91118e",
   "metadata": {},
   "outputs": [],
   "source": [
    "# Label Recessions\n",
    "df['label'] = 0\n",
    "df.loc['1980-01':'1980-07', 'label'] = 1\n",
    "df.loc['1981-07':'1982-11', 'label'] = 1\n",
    "df.loc['1990-07':'1991-03', 'label'] = 1\n",
    "df.loc['2001-03':'2001-11', 'label'] = 1\n",
    "df.loc['2007-12':'2000-07', 'label'] = 1\n",
    "df.loc['2020-02':'2020-04', 'label'] = 1"
   ]
  },
  {
   "cell_type": "code",
   "execution_count": 126,
   "id": "6528788d",
   "metadata": {},
   "outputs": [],
   "source": [
    "# Write CSV\n",
    "df.to_csv(\"economic_indicators.csv\")"
   ]
  }
 ],
 "metadata": {
  "kernelspec": {
   "display_name": "Python 3 (ipykernel)",
   "language": "python",
   "name": "python3"
  },
  "language_info": {
   "codemirror_mode": {
    "name": "ipython",
    "version": 3
   },
   "file_extension": ".py",
   "mimetype": "text/x-python",
   "name": "python",
   "nbconvert_exporter": "python",
   "pygments_lexer": "ipython3",
   "version": "3.9.7"
  }
 },
 "nbformat": 4,
 "nbformat_minor": 5
}
